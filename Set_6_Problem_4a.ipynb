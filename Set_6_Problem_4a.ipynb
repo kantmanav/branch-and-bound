{
 "cells": [
  {
   "cell_type": "code",
   "execution_count": 6,
   "metadata": {},
   "outputs": [],
   "source": [
    "# Time for F(20) was 10.2s (in cell In [24])\n",
    "# Time for F(25) was 8min 56s (in cell In [29])\n",
    "\n",
    "import cmath\n",
    "import math\n",
    "import gmpy2\n",
    "\n",
    "def f(l, y):\n",
    "    N = 2 ** l\n",
    "    three_inv = gmpy2.invert(3, N)\n",
    "    sum = 0\n",
    "    i = complex(0, 1)\n",
    "    for m in range(l):\n",
    "        sum += cmath.exp(2 * math.pi * i * (y * (2 * three_inv) ** m % N) / N)\n",
    "    return sum.real / l\n",
    "\n",
    "def F(l):\n",
    "    maximum = -2\n",
    "    for y in range(1, 2 ** l, 2):\n",
    "        new = f(l, y)\n",
    "        if new > maximum:\n",
    "            maximum = new\n",
    "    return maximum"
   ]
  },
  {
   "cell_type": "code",
   "execution_count": 7,
   "metadata": {},
   "outputs": [],
   "source": [
    "import pandas as pd\n",
    "\n",
    "F_values_df = pd.DataFrame(columns=[1, 2, 3, 4, 5, 6, 7, 8, 9, 10, 11, 12, 13, 14, 15, 16, 17, 18, 19, 20, 21, 22, 23, 24, 25])"
   ]
  },
  {
   "cell_type": "code",
   "execution_count": 8,
   "metadata": {},
   "outputs": [
    {
     "name": "stdout",
     "output_type": "stream",
     "text": [
      "-1.0\n"
     ]
    }
   ],
   "source": [
    "val = F(1)\n",
    "F_values_df[1] = [val]\n",
    "print(val)"
   ]
  },
  {
   "cell_type": "code",
   "execution_count": 9,
   "metadata": {
    "scrolled": true
   },
   "outputs": [
    {
     "name": "stdout",
     "output_type": "stream",
     "text": [
      "    1    2    3    4    5    6    7    8    9    10  ...   16   17   18   19  \\\n",
      "0 -1.0  NaN  NaN  NaN  NaN  NaN  NaN  NaN  NaN  NaN  ...  NaN  NaN  NaN  NaN   \n",
      "\n",
      "    20   21   22   23   24   25  \n",
      "0  NaN  NaN  NaN  NaN  NaN  NaN  \n",
      "\n",
      "[1 rows x 25 columns]\n"
     ]
    }
   ],
   "source": [
    "print(F_values_df)"
   ]
  },
  {
   "cell_type": "code",
   "execution_count": 20,
   "metadata": {},
   "outputs": [
    {
     "name": "stdout",
     "output_type": "stream",
     "text": [
      "-0.49999999999999994\n",
      "-0.09763107293781748\n",
      "0.02244755338790938\n",
      "0.06104172584493761\n",
      "0.21035816082614947\n",
      "0.3094483225829058\n",
      "0.3693105857133682\n",
      "0.38886774156988807\n",
      "0.3789784778872586\n",
      "0.4326423649299213\n",
      "0.47419939360919283\n",
      "0.5029312664922283\n",
      "0.5190224784556354\n",
      "0.5392267335158978\n",
      "0.5439534133630893\n",
      "0.5240977925880047\n",
      "0.5275612743342892\n",
      "0.5419132277110322\n"
     ]
    }
   ],
   "source": [
    "for l in range(2, 20):\n",
    "    val = F(l)\n",
    "    F_values_df[l] = [val]\n",
    "    print(val)"
   ]
  },
  {
   "cell_type": "code",
   "execution_count": 21,
   "metadata": {},
   "outputs": [
    {
     "name": "stdout",
     "output_type": "stream",
     "text": [
      "         1    2         3         4         5         6         7         8   \\\n",
      "0  0.432642 -0.5 -0.097631  0.022448  0.061042  0.210358  0.309448  0.369311   \n",
      "\n",
      "         9         10  ...        16        17        18        19   20   21  \\\n",
      "0  0.388868  0.378978  ...  0.543953  0.524098  0.527561  0.541913  NaN  NaN   \n",
      "\n",
      "    22   23   24   25  \n",
      "0  NaN  NaN  NaN  NaN  \n",
      "\n",
      "[1 rows x 25 columns]\n"
     ]
    }
   ],
   "source": [
    "print(F_values_df)"
   ]
  },
  {
   "cell_type": "code",
   "execution_count": 24,
   "metadata": {},
   "outputs": [
    {
     "name": "stdout",
     "output_type": "stream",
     "text": [
      "CPU times: user 10.1 s, sys: 14.8 ms, total: 10.2 s\n",
      "Wall time: 10.2 s\n"
     ]
    },
    {
     "data": {
      "text/plain": [
       "0.5591664147757932"
      ]
     },
     "execution_count": 24,
     "metadata": {},
     "output_type": "execute_result"
    }
   ],
   "source": [
    "%%time\n",
    "F(20)"
   ]
  },
  {
   "cell_type": "code",
   "execution_count": 25,
   "metadata": {},
   "outputs": [
    {
     "name": "stdout",
     "output_type": "stream",
     "text": [
      "0.5591664147757932\n"
     ]
    }
   ],
   "source": [
    "val = F(20)\n",
    "F_values_df[20] = [val]\n",
    "print(val)"
   ]
  },
  {
   "cell_type": "code",
   "execution_count": 26,
   "metadata": {},
   "outputs": [
    {
     "name": "stdout",
     "output_type": "stream",
     "text": [
      "0.5794152269564543\n",
      "0.5969415901539915\n",
      "0.61106656363946\n",
      "0.620062871151\n"
     ]
    }
   ],
   "source": [
    "for l in range(21, 25):\n",
    "    val = F(l)\n",
    "    F_values_df[l] = [val]\n",
    "    print(val)"
   ]
  },
  {
   "cell_type": "code",
   "execution_count": 29,
   "metadata": {},
   "outputs": [
    {
     "name": "stdout",
     "output_type": "stream",
     "text": [
      "CPU times: user 8min 53s, sys: 2.94 s, total: 8min 56s\n",
      "Wall time: 9min 9s\n"
     ]
    },
    {
     "data": {
      "text/plain": [
       "0.620261512878786"
      ]
     },
     "execution_count": 29,
     "metadata": {},
     "output_type": "execute_result"
    }
   ],
   "source": [
    "%%time\n",
    "F(25)"
   ]
  },
  {
   "cell_type": "code",
   "execution_count": 30,
   "metadata": {},
   "outputs": [
    {
     "data": {
      "text/html": [
       "<div>\n",
       "<style scoped>\n",
       "    .dataframe tbody tr th:only-of-type {\n",
       "        vertical-align: middle;\n",
       "    }\n",
       "\n",
       "    .dataframe tbody tr th {\n",
       "        vertical-align: top;\n",
       "    }\n",
       "\n",
       "    .dataframe thead th {\n",
       "        text-align: right;\n",
       "    }\n",
       "</style>\n",
       "<table border=\"1\" class=\"dataframe\">\n",
       "  <thead>\n",
       "    <tr style=\"text-align: right;\">\n",
       "      <th></th>\n",
       "      <th>1</th>\n",
       "      <th>2</th>\n",
       "      <th>3</th>\n",
       "      <th>4</th>\n",
       "      <th>5</th>\n",
       "      <th>6</th>\n",
       "      <th>7</th>\n",
       "      <th>8</th>\n",
       "      <th>9</th>\n",
       "      <th>10</th>\n",
       "      <th>...</th>\n",
       "      <th>16</th>\n",
       "      <th>17</th>\n",
       "      <th>18</th>\n",
       "      <th>19</th>\n",
       "      <th>20</th>\n",
       "      <th>21</th>\n",
       "      <th>22</th>\n",
       "      <th>23</th>\n",
       "      <th>24</th>\n",
       "      <th>25</th>\n",
       "    </tr>\n",
       "  </thead>\n",
       "  <tbody>\n",
       "    <tr>\n",
       "      <th>0</th>\n",
       "      <td>0.432642</td>\n",
       "      <td>-0.5</td>\n",
       "      <td>-0.097631</td>\n",
       "      <td>0.022448</td>\n",
       "      <td>0.061042</td>\n",
       "      <td>0.210358</td>\n",
       "      <td>0.309448</td>\n",
       "      <td>0.369311</td>\n",
       "      <td>0.388868</td>\n",
       "      <td>0.378978</td>\n",
       "      <td>...</td>\n",
       "      <td>0.543953</td>\n",
       "      <td>0.524098</td>\n",
       "      <td>0.527561</td>\n",
       "      <td>0.541913</td>\n",
       "      <td>0.559166</td>\n",
       "      <td>0.579415</td>\n",
       "      <td>0.596942</td>\n",
       "      <td>0.611067</td>\n",
       "      <td>0.620063</td>\n",
       "      <td>NaN</td>\n",
       "    </tr>\n",
       "  </tbody>\n",
       "</table>\n",
       "<p>1 rows × 25 columns</p>\n",
       "</div>"
      ],
      "text/plain": [
       "         1    2         3         4         5         6         7         8   \\\n",
       "0  0.432642 -0.5 -0.097631  0.022448  0.061042  0.210358  0.309448  0.369311   \n",
       "\n",
       "         9         10  ...        16        17        18        19        20  \\\n",
       "0  0.388868  0.378978  ...  0.543953  0.524098  0.527561  0.541913  0.559166   \n",
       "\n",
       "         21        22        23        24   25  \n",
       "0  0.579415  0.596942  0.611067  0.620063  NaN  \n",
       "\n",
       "[1 rows x 25 columns]"
      ]
     },
     "execution_count": 30,
     "metadata": {},
     "output_type": "execute_result"
    }
   ],
   "source": [
    "F_values_df"
   ]
  },
  {
   "cell_type": "code",
   "execution_count": 31,
   "metadata": {},
   "outputs": [],
   "source": [
    "F_values_df[1] = F(1)"
   ]
  },
  {
   "cell_type": "code",
   "execution_count": 32,
   "metadata": {},
   "outputs": [
    {
     "data": {
      "text/html": [
       "<div>\n",
       "<style scoped>\n",
       "    .dataframe tbody tr th:only-of-type {\n",
       "        vertical-align: middle;\n",
       "    }\n",
       "\n",
       "    .dataframe tbody tr th {\n",
       "        vertical-align: top;\n",
       "    }\n",
       "\n",
       "    .dataframe thead th {\n",
       "        text-align: right;\n",
       "    }\n",
       "</style>\n",
       "<table border=\"1\" class=\"dataframe\">\n",
       "  <thead>\n",
       "    <tr style=\"text-align: right;\">\n",
       "      <th></th>\n",
       "      <th>1</th>\n",
       "      <th>2</th>\n",
       "      <th>3</th>\n",
       "      <th>4</th>\n",
       "      <th>5</th>\n",
       "      <th>6</th>\n",
       "      <th>7</th>\n",
       "      <th>8</th>\n",
       "      <th>9</th>\n",
       "      <th>10</th>\n",
       "      <th>...</th>\n",
       "      <th>16</th>\n",
       "      <th>17</th>\n",
       "      <th>18</th>\n",
       "      <th>19</th>\n",
       "      <th>20</th>\n",
       "      <th>21</th>\n",
       "      <th>22</th>\n",
       "      <th>23</th>\n",
       "      <th>24</th>\n",
       "      <th>25</th>\n",
       "    </tr>\n",
       "  </thead>\n",
       "  <tbody>\n",
       "    <tr>\n",
       "      <th>0</th>\n",
       "      <td>-1.0</td>\n",
       "      <td>-0.5</td>\n",
       "      <td>-0.097631</td>\n",
       "      <td>0.022448</td>\n",
       "      <td>0.061042</td>\n",
       "      <td>0.210358</td>\n",
       "      <td>0.309448</td>\n",
       "      <td>0.369311</td>\n",
       "      <td>0.388868</td>\n",
       "      <td>0.378978</td>\n",
       "      <td>...</td>\n",
       "      <td>0.543953</td>\n",
       "      <td>0.524098</td>\n",
       "      <td>0.527561</td>\n",
       "      <td>0.541913</td>\n",
       "      <td>0.559166</td>\n",
       "      <td>0.579415</td>\n",
       "      <td>0.596942</td>\n",
       "      <td>0.611067</td>\n",
       "      <td>0.620063</td>\n",
       "      <td>NaN</td>\n",
       "    </tr>\n",
       "  </tbody>\n",
       "</table>\n",
       "<p>1 rows × 25 columns</p>\n",
       "</div>"
      ],
      "text/plain": [
       "    1    2         3         4         5         6         7         8   \\\n",
       "0 -1.0 -0.5 -0.097631  0.022448  0.061042  0.210358  0.309448  0.369311   \n",
       "\n",
       "         9         10  ...        16        17        18        19        20  \\\n",
       "0  0.388868  0.378978  ...  0.543953  0.524098  0.527561  0.541913  0.559166   \n",
       "\n",
       "         21        22        23        24   25  \n",
       "0  0.579415  0.596942  0.611067  0.620063  NaN  \n",
       "\n",
       "[1 rows x 25 columns]"
      ]
     },
     "execution_count": 32,
     "metadata": {},
     "output_type": "execute_result"
    }
   ],
   "source": [
    "F_values_df"
   ]
  },
  {
   "cell_type": "code",
   "execution_count": 34,
   "metadata": {},
   "outputs": [],
   "source": [
    "F_values_df[25] = [1]"
   ]
  },
  {
   "cell_type": "code",
   "execution_count": 35,
   "metadata": {},
   "outputs": [
    {
     "name": "stdout",
     "output_type": "stream",
     "text": [
      "0.620261512878786\n"
     ]
    }
   ],
   "source": [
    "val = F(25)\n",
    "F_values_df[25] = [val]\n",
    "print(val)"
   ]
  },
  {
   "cell_type": "code",
   "execution_count": 36,
   "metadata": {},
   "outputs": [],
   "source": [
    "F_values_df.to_csv('/Users/manavkant/Documents/Caltech/Q3_2021/CS 38/Sets/Solutions/Set_6_Problem_4a.csv')"
   ]
  }
 ],
 "metadata": {
  "kernelspec": {
   "display_name": "Python 3",
   "language": "python",
   "name": "python3"
  },
  "language_info": {
   "codemirror_mode": {
    "name": "ipython",
    "version": 3
   },
   "file_extension": ".py",
   "mimetype": "text/x-python",
   "name": "python",
   "nbconvert_exporter": "python",
   "pygments_lexer": "ipython3",
   "version": "3.8.3"
  }
 },
 "nbformat": 4,
 "nbformat_minor": 4
}
